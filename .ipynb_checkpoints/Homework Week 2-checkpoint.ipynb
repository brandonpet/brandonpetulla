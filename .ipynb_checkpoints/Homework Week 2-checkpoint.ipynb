{
 "cells": [
  {
   "cell_type": "markdown",
   "metadata": {},
   "source": [
    "**Homework Week 2**\n",
    "\n",
    "*Computational Photography*\n",
    "\n",
    "This assignment is mostly about practicing manipulating numbers and strings in python. It ends with backing an algorithm out of code.\n"
   ]
  },
  {
   "cell_type": "markdown",
   "metadata": {},
   "source": [
    "Write code that when you run the cell generates a tic-tac-toe board\n",
    "Expected output:\n",
    "\n",
    "```\n",
    "  |  |  \n",
    "--------\n",
    "  |  |  \n",
    "--------\n",
    "  |  |  \n",
    "  \n",
    "```\n",
    "\n",
    "First just use print statements"
   ]
  },
  {
   "cell_type": "code",
   "execution_count": 11,
   "metadata": {
    "collapsed": false
   },
   "outputs": [
    {
     "name": "stdout",
     "output_type": "stream",
     "text": [
      "  |  |  \n",
      "--------\n",
      "  |  |  \n",
      "--------\n",
      "  |  |  \n"
     ]
    }
   ],
   "source": [
    "print('  |  |  ')\n",
    "#your code\n",
    "print ('--------')\n",
    "print ('  |  |  ')\n",
    "print ('--------')\n",
    "print ('  |  |  ')\n"
   ]
  },
  {
   "cell_type": "markdown",
   "metadata": {},
   "source": [
    "Now do it using variables"
   ]
  },
  {
   "cell_type": "code",
   "execution_count": 10,
   "metadata": {
    "collapsed": false
   },
   "outputs": [
    {
     "name": "stdout",
     "output_type": "stream",
     "text": [
      "Rocco sucks lemons\n"
     ]
    }
   ],
   "source": [
    "a = \"Rocco\"\n",
    "b = \"sucks\"\n",
    "c = \"lemons\"\n",
    "print ('a + b + c')"
   ]
  },
  {
   "cell_type": "markdown",
   "metadata": {},
   "source": [
    "Starting with x and y as defined, write code to print the larger number"
   ]
  },
  {
   "cell_type": "code",
   "execution_count": 7,
   "metadata": {
    "collapsed": false
   },
   "outputs": [
    {
     "data": {
      "text/plain": [
       "54"
      ]
     },
     "execution_count": 7,
     "metadata": {},
     "output_type": "execute_result"
    }
   ],
   "source": [
    "x = 54\n",
    "y = 23\n",
    "\n",
    "max(x, y,)\n"
   ]
  },
  {
   "cell_type": "markdown",
   "metadata": {},
   "source": [
    "Starting with x, y, and z as defined, write code to print the largest number"
   ]
  },
  {
   "cell_type": "code",
   "execution_count": 8,
   "metadata": {
    "collapsed": false
   },
   "outputs": [
    {
     "data": {
      "text/plain": [
       "23"
      ]
     },
     "execution_count": 8,
     "metadata": {},
     "output_type": "execute_result"
    }
   ],
   "source": [
    "x = -54\n",
    "y = 23\n",
    "z = 4\n",
    "\n",
    "max(x, y, z,)\n"
   ]
  },
  {
   "cell_type": "raw",
   "metadata": {},
   "source": [
    "Write a vowel recognizer"
   ]
  },
  {
   "cell_type": "code",
   "execution_count": 25,
   "metadata": {
    "collapsed": false,
    "scrolled": true
   },
   "outputs": [
    {
     "name": "stdout",
     "output_type": "stream",
     "text": [
      "Enter a character (be sure it is in quotes)a\n",
      "a\n",
      "Cheers\n"
     ]
    }
   ],
   "source": [
    "char_in = input(\"Enter a character (be sure it is in quotes)\")\n",
    "print(char_in)\n",
    "if char_in ==\"a\" or char_in ==\"e\" or char_in ==\"i\" or char_in ==\"o\" or char_in ==\"u\":\n",
    "    print (\"Cheers\")\n",
    "elif char_in == \"y\":\n",
    "    print (\"What Up\")\n",
    "else:\n",
    "    print (\"Love me\")\n"
   ]
  },
  {
   "cell_type": "code",
   "execution_count": null,
   "metadata": {
    "collapsed": true
   },
   "outputs": [],
   "source": []
  },
  {
   "cell_type": "markdown",
   "metadata": {},
   "source": [
    "Turn the following code into English\n"
   ]
  },
  {
   "cell_type": "code",
   "execution_count": 30,
   "metadata": {
    "collapsed": false
   },
   "outputs": [
    {
     "name": "stdout",
     "output_type": "stream",
     "text": [
      "What? 1\n",
      "Pfft\n",
      "What? 2\n",
      "Pfft\n",
      "What? 3\n",
      "Meh\n",
      "What? 4\n",
      "Meh\n",
      "What? 5\n",
      "Hmmmm\n",
      "What? 6\n",
      "Hmmmm\n",
      "What? 7\n",
      "OK\n"
     ]
    }
   ],
   "source": [
    "import random\n",
    "a = random.choice(range(1,11))\n",
    "b = 0\n",
    "while (a != b):\n",
    "    b = int(input(\"What? \"))\n",
    "    if abs(a-b) > 4:\n",
    "        print (\"Pfft\")\n",
    "    elif abs(a-b) > 2:\n",
    "        print (\"Meh\")\n",
    "    elif abs(a-b)>0:\n",
    "        print (\"Hmmmm\")\n",
    "    else:\n",
    "        print (\"OK\")\n"
   ]
  },
  {
   "cell_type": "markdown",
   "metadata": {},
   "source": [
    "Now modify it into readable code. Be sure to make variables for all the numbers"
   ]
  },
  {
   "cell_type": "code",
   "execution_count": 32,
   "metadata": {
    "collapsed": false
   },
   "outputs": [
    {
     "name": "stdout",
     "output_type": "stream",
     "text": [
      "please pick a number between 1-101\n",
      "Hi, I love you, you uber harlet\n",
      "please pick a number between 1-102\n",
      "Hi, I love you, you uber harlet\n",
      "please pick a number between 1-103\n",
      "You are the bomb\n",
      "please pick a number between 1-104\n",
      "You are the bomb\n",
      "please pick a number between 1-105\n",
      "You 'ight\n",
      "please pick a number between 1-106\n",
      "You 'ight\n",
      "please pick a number between 1-107\n",
      "OK\n"
     ]
    }
   ],
   "source": [
    "import random\n",
    "a = random.choice(range(1,11))\n",
    "b = 0\n",
    "while (a != b):\n",
    "    b = int(input(\"please pick a number between 1-10\"))\n",
    "    if abs(a-b) > 4:\n",
    "        print (\"Hi, I love you, you uber harlet\")\n",
    "    elif abs(a-b) > 2:\n",
    "        print (\"You are the bomb\")\n",
    "    elif abs(a-b)>0:\n",
    "        print (\"You 'ight\")\n",
    "    else:\n",
    "        print (\"OK\")"
   ]
  },
  {
   "cell_type": "markdown",
   "metadata": {},
   "source": [
    "### Write an algorithm to print the lyrics to \"99 Bottles of Beer on the Wall\"\n",
    "99 bottles of beer on the wall, 99 bottles of beer.\n",
    "Take one down, pass it around, 98 bottles of beer on the wall.\n",
    "98 bottles of beer on the wall, 98 bottles of beer.\n",
    "Take one down, pass it around, 97 bottles of beer on the wall.\n",
    "...\n",
    "no more bottles of beer on the wall.\n"
   ]
  },
  {
   "cell_type": "code",
   "execution_count": 37,
   "metadata": {
    "collapsed": false
   },
   "outputs": [
    {
     "name": "stdout",
     "output_type": "stream",
     "text": [
      "99 Bottles of beer on the wall\n",
      "98 Bottles of beer on the wall\n",
      "97 Bottles of beer on the wall\n",
      "96 Bottles of beer on the wall\n",
      "95 Bottles of beer on the wall\n",
      "94 Bottles of beer on the wall\n",
      "93 Bottles of beer on the wall\n",
      "92 Bottles of beer on the wall\n",
      "91 Bottles of beer on the wall\n",
      "90 Bottles of beer on the wall\n",
      "89 Bottles of beer on the wall\n",
      "88 Bottles of beer on the wall\n",
      "87 Bottles of beer on the wall\n",
      "86 Bottles of beer on the wall\n",
      "85 Bottles of beer on the wall\n",
      "84 Bottles of beer on the wall\n",
      "83 Bottles of beer on the wall\n",
      "82 Bottles of beer on the wall\n",
      "81 Bottles of beer on the wall\n",
      "80 Bottles of beer on the wall\n",
      "79 Bottles of beer on the wall\n",
      "78 Bottles of beer on the wall\n",
      "77 Bottles of beer on the wall\n",
      "76 Bottles of beer on the wall\n",
      "75 Bottles of beer on the wall\n",
      "74 Bottles of beer on the wall\n",
      "73 Bottles of beer on the wall\n",
      "72 Bottles of beer on the wall\n",
      "71 Bottles of beer on the wall\n",
      "70 Bottles of beer on the wall\n",
      "69 Bottles of beer on the wall\n",
      "68 Bottles of beer on the wall\n",
      "67 Bottles of beer on the wall\n",
      "66 Bottles of beer on the wall\n",
      "65 Bottles of beer on the wall\n",
      "64 Bottles of beer on the wall\n",
      "63 Bottles of beer on the wall\n",
      "62 Bottles of beer on the wall\n",
      "61 Bottles of beer on the wall\n",
      "60 Bottles of beer on the wall\n",
      "59 Bottles of beer on the wall\n",
      "58 Bottles of beer on the wall\n",
      "57 Bottles of beer on the wall\n",
      "56 Bottles of beer on the wall\n",
      "55 Bottles of beer on the wall\n",
      "54 Bottles of beer on the wall\n",
      "53 Bottles of beer on the wall\n",
      "52 Bottles of beer on the wall\n",
      "51 Bottles of beer on the wall\n",
      "50 Bottles of beer on the wall\n",
      "49 Bottles of beer on the wall\n",
      "48 Bottles of beer on the wall\n",
      "47 Bottles of beer on the wall\n",
      "46 Bottles of beer on the wall\n",
      "45 Bottles of beer on the wall\n",
      "44 Bottles of beer on the wall\n",
      "43 Bottles of beer on the wall\n",
      "42 Bottles of beer on the wall\n",
      "41 Bottles of beer on the wall\n",
      "40 Bottles of beer on the wall\n",
      "39 Bottles of beer on the wall\n",
      "38 Bottles of beer on the wall\n",
      "37 Bottles of beer on the wall\n",
      "36 Bottles of beer on the wall\n",
      "35 Bottles of beer on the wall\n",
      "34 Bottles of beer on the wall\n",
      "33 Bottles of beer on the wall\n",
      "32 Bottles of beer on the wall\n",
      "31 Bottles of beer on the wall\n",
      "30 Bottles of beer on the wall\n",
      "29 Bottles of beer on the wall\n",
      "28 Bottles of beer on the wall\n",
      "27 Bottles of beer on the wall\n",
      "26 Bottles of beer on the wall\n",
      "25 Bottles of beer on the wall\n",
      "24 Bottles of beer on the wall\n",
      "23 Bottles of beer on the wall\n",
      "22 Bottles of beer on the wall\n",
      "21 Bottles of beer on the wall\n",
      "20 Bottles of beer on the wall\n",
      "19 Bottles of beer on the wall\n",
      "18 Bottles of beer on the wall\n",
      "17 Bottles of beer on the wall\n",
      "16 Bottles of beer on the wall\n",
      "15 Bottles of beer on the wall\n",
      "14 Bottles of beer on the wall\n",
      "13 Bottles of beer on the wall\n",
      "12 Bottles of beer on the wall\n",
      "11 Bottles of beer on the wall\n",
      "10 Bottles of beer on the wall\n",
      "9 Bottles of beer on the wall\n",
      "8 Bottles of beer on the wall\n",
      "7 Bottles of beer on the wall\n",
      "6 Bottles of beer on the wall\n",
      "5 Bottles of beer on the wall\n",
      "4 Bottles of beer on the wall\n",
      "3 Bottles of beer on the wall\n",
      "2 Bottles of beer on the wall\n",
      "1 Bottles of beer on the wall\n",
      "0 Bottles of beer on the wall\n",
      "There are no more bottles of beer.\n"
     ]
    }
   ],
   "source": [
    "bottles_of_beer = 99\n",
    "while bottles_of_beer >= 0:\n",
    "    print (bottles_of_beer, \"Bottles of beer on the wall\")\n",
    "    bottles_of_beer = bottles_of_beer - 1\n",
    "print (\"There are no more bottles of beer.\")"
   ]
  },
  {
   "cell_type": "markdown",
   "metadata": {},
   "source": [
    "For the brave, implement your algorithm in Python"
   ]
  },
  {
   "cell_type": "code",
   "execution_count": 1,
   "metadata": {
    "collapsed": false
   },
   "outputs": [
    {
     "name": "stdout",
     "output_type": "stream",
     "text": [
      "1 ponies are lit and losers are fit, \n",
      "2 ponies are lit and losers are fit, \n",
      "3 ponies are lit and losers are fit, \n",
      "4 ponies are lit and losers are fit, \n",
      "5 ponies are lit and losers are fit, \n",
      "6 ponies are lit and losers are fit, \n",
      "7 ponies are lit and losers are fit, \n",
      "8 ponies are lit and losers are fit, \n",
      "9 ponies are lit and losers are fit, \n",
      "10 ponies are lit and losers are fit, \n",
      "11 ponies are lit and losers are fit, \n",
      "12 ponies are lit and losers are fit, \n",
      "13 ponies are lit and losers are fit, \n",
      "14 ponies are lit and losers are fit, \n",
      "15 ponies are lit and losers are fit, \n",
      "16 ponies are lit and losers are fit, \n",
      "17 ponies are lit and losers are fit, \n",
      "18 ponies are lit and losers are fit, \n",
      "19 ponies are lit and losers are fit, \n",
      "20 ponies are lit and losers are fit, \n",
      "21 ponies are lit and losers are fit, \n",
      "22 ponies are lit and losers are fit, \n",
      "23 ponies are lit and losers are fit, \n",
      "24 ponies are lit and losers are fit, \n",
      "25 ponies are lit and losers are fit, \n",
      "26 ponies are lit and losers are fit, \n",
      "27 ponies are lit and losers are fit, \n",
      "28 ponies are lit and losers are fit, \n",
      "29 ponies are lit and losers are fit, \n",
      "30 ponies are lit and losers are fit, \n",
      "31 ponies are lit and losers are fit, \n",
      "32 ponies are lit and losers are fit, \n",
      "33 ponies are lit and losers are fit, \n",
      "34 ponies are lit and losers are fit, \n",
      "35 ponies are lit and losers are fit, \n",
      "36 ponies are lit and losers are fit, \n",
      "37 ponies are lit and losers are fit, \n",
      "38 ponies are lit and losers are fit, \n",
      "39 ponies are lit and losers are fit, \n",
      "40 ponies are lit and losers are fit, \n",
      "41 ponies are lit and losers are fit, \n",
      "42 ponies are lit and losers are fit, \n",
      "43 ponies are lit and losers are fit, \n",
      "44 ponies are lit and losers are fit, \n",
      "45 ponies are lit and losers are fit, \n",
      "46 ponies are lit and losers are fit, \n",
      "47 ponies are lit and losers are fit, \n",
      "48 ponies are lit and losers are fit, \n",
      "49 ponies are lit and losers are fit, \n",
      "50 ponies are lit and losers are fit, \n",
      "51 ponies are lit and losers are fit, \n",
      "52 ponies are lit and losers are fit, \n",
      "53 ponies are lit and losers are fit, \n",
      "54 ponies are lit and losers are fit, \n",
      "55 ponies are lit and losers are fit, \n",
      "56 ponies are lit and losers are fit, \n",
      "57 ponies are lit and losers are fit, \n",
      "58 ponies are lit and losers are fit, \n",
      "59 ponies are lit and losers are fit, \n",
      "60 ponies are lit and losers are fit, \n",
      "61 ponies are lit and losers are fit, \n",
      "62 ponies are lit and losers are fit, \n",
      "63 ponies are lit and losers are fit, \n",
      "64 ponies are lit and losers are fit, \n",
      "65 ponies are lit and losers are fit, \n",
      "66 ponies are lit and losers are fit, \n",
      "67 ponies are lit and losers are fit, \n",
      "68 ponies are lit and losers are fit, \n",
      "69 ponies are lit and losers are fit, \n",
      "70 ponies are lit and losers are fit, \n",
      "71 ponies are lit and losers are fit, \n",
      "72 ponies are lit and losers are fit, \n",
      "73 ponies are lit and losers are fit, \n",
      "74 ponies are lit and losers are fit, \n",
      "75 ponies are lit and losers are fit, \n",
      "76 ponies are lit and losers are fit, \n",
      "77 ponies are lit and losers are fit, \n",
      "78 ponies are lit and losers are fit, \n",
      "79 ponies are lit and losers are fit, \n",
      "80 ponies are lit and losers are fit, \n",
      "81 ponies are lit and losers are fit, \n",
      "82 ponies are lit and losers are fit, \n",
      "83 ponies are lit and losers are fit, \n",
      "84 ponies are lit and losers are fit, \n",
      "85 ponies are lit and losers are fit, \n",
      "86 ponies are lit and losers are fit, \n",
      "87 ponies are lit and losers are fit, \n",
      "88 ponies are lit and losers are fit, \n",
      "89 ponies are lit and losers are fit, \n",
      "90 ponies are lit and losers are fit, \n",
      "91 ponies are lit and losers are fit, \n",
      "92 ponies are lit and losers are fit, \n",
      "93 ponies are lit and losers are fit, \n",
      "94 ponies are lit and losers are fit, \n",
      "95 ponies are lit and losers are fit, \n",
      "96 ponies are lit and losers are fit, \n",
      "97 ponies are lit and losers are fit, \n",
      "98 ponies are lit and losers are fit, \n",
      "99 ponies are lit and losers are fit, \n",
      "100 ponies are lit and losers are fit, \n",
      "lol.\n"
     ]
    }
   ],
   "source": [
    "ponies_and_losers = 1\n",
    "while ponies_and_losers <= 100:\n",
    "    print (ponies_and_losers, \"ponies are lit and losers are fit, \")\n",
    "    ponies_and_losers = ponies_and_losers + 1\n",
    "print (\"lol.\")"
   ]
  },
  {
   "cell_type": "code",
   "execution_count": null,
   "metadata": {
    "collapsed": true
   },
   "outputs": [],
   "source": []
  }
 ],
 "metadata": {
  "kernelspec": {
   "display_name": "Python 3",
   "language": "python",
   "name": "python3"
  },
  "language_info": {
   "codemirror_mode": {
    "name": "ipython",
    "version": 3
   },
   "file_extension": ".py",
   "mimetype": "text/x-python",
   "name": "python",
   "nbconvert_exporter": "python",
   "pygments_lexer": "ipython3",
   "version": "3.5.1"
  }
 },
 "nbformat": 4,
 "nbformat_minor": 0
}
